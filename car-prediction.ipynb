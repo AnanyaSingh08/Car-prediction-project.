{
 "cells": [
  {
   "cell_type": "code",
   "execution_count": 1,
   "id": "040fe660",
   "metadata": {
    "_cell_guid": "b1076dfc-b9ad-4769-8c92-a6c4dae69d19",
    "_uuid": "8f2839f25d086af736a60e9eeb907d3b93b6e0e5",
    "execution": {
     "iopub.execute_input": "2022-08-07T05:27:42.447053Z",
     "iopub.status.busy": "2022-08-07T05:27:42.446592Z",
     "iopub.status.idle": "2022-08-07T05:27:43.861064Z",
     "shell.execute_reply": "2022-08-07T05:27:43.859892Z"
    },
    "papermill": {
     "duration": 1.426853,
     "end_time": "2022-08-07T05:27:43.864052",
     "exception": false,
     "start_time": "2022-08-07T05:27:42.437199",
     "status": "completed"
    },
    "tags": []
   },
   "outputs": [
    {
     "name": "stdout",
     "output_type": "stream",
     "text": [
      "/kaggle/input/vehicle-dataset-from-cardekho/car data.csv\n",
      "/kaggle/input/vehicle-dataset-from-cardekho/CAR DETAILS FROM CAR DEKHO.csv\n",
      "/kaggle/input/vehicle-dataset-from-cardekho/Car details v3.csv\n"
     ]
    }
   ],
   "source": [
    "# This Python 3 environment comes with many helpful analytics libraries installed\n",
    "# It is defined by the kaggle/python Docker image: https://github.com/kaggle/docker-python\n",
    "# For example, here's several helpful packages to load\n",
    "\n",
    "import numpy as np # linear algebra\n",
    "import pandas as pd \n",
    "import matplotlib.pyplot as plt\n",
    "import seaborn as sns\n",
    "from sklearn.model_selection import train_test_split\n",
    "from sklearn.linear_model import LinearRegression\n",
    "from sklearn.linear_model import Lasso \n",
    "from sklearn import metrics \n",
    "\n",
    "import os\n",
    "for dirname, _, filenames in os.walk('/kaggle/input'):\n",
    "    for filename in filenames:\n",
    "        print(os.path.join(dirname, filename))\n",
    "\n",
    "# You can write up to 20GB to the current directory (/kaggle/working/) that gets preserved as output when you create a version using \"Save & Run All\" \n",
    "# You can also write temporary files to /kaggle/temp/, but they won't be saved outside of the current session"
   ]
  },
  {
   "cell_type": "code",
   "execution_count": 2,
   "id": "26308cb7",
   "metadata": {
    "execution": {
     "iopub.execute_input": "2022-08-07T05:27:43.878867Z",
     "iopub.status.busy": "2022-08-07T05:27:43.878438Z",
     "iopub.status.idle": "2022-08-07T05:27:43.915340Z",
     "shell.execute_reply": "2022-08-07T05:27:43.914105Z"
    },
    "papermill": {
     "duration": 0.047751,
     "end_time": "2022-08-07T05:27:43.918463",
     "exception": false,
     "start_time": "2022-08-07T05:27:43.870712",
     "status": "completed"
    },
    "tags": []
   },
   "outputs": [
    {
     "data": {
      "text/html": [
       "<div>\n",
       "<style scoped>\n",
       "    .dataframe tbody tr th:only-of-type {\n",
       "        vertical-align: middle;\n",
       "    }\n",
       "\n",
       "    .dataframe tbody tr th {\n",
       "        vertical-align: top;\n",
       "    }\n",
       "\n",
       "    .dataframe thead th {\n",
       "        text-align: right;\n",
       "    }\n",
       "</style>\n",
       "<table border=\"1\" class=\"dataframe\">\n",
       "  <thead>\n",
       "    <tr style=\"text-align: right;\">\n",
       "      <th></th>\n",
       "      <th>Car_Name</th>\n",
       "      <th>Year</th>\n",
       "      <th>Selling_Price</th>\n",
       "      <th>Present_Price</th>\n",
       "      <th>Kms_Driven</th>\n",
       "      <th>Fuel_Type</th>\n",
       "      <th>Seller_Type</th>\n",
       "      <th>Transmission</th>\n",
       "      <th>Owner</th>\n",
       "    </tr>\n",
       "  </thead>\n",
       "  <tbody>\n",
       "    <tr>\n",
       "      <th>0</th>\n",
       "      <td>ritz</td>\n",
       "      <td>2014</td>\n",
       "      <td>3.35</td>\n",
       "      <td>5.59</td>\n",
       "      <td>27000</td>\n",
       "      <td>Petrol</td>\n",
       "      <td>Dealer</td>\n",
       "      <td>Manual</td>\n",
       "      <td>0</td>\n",
       "    </tr>\n",
       "    <tr>\n",
       "      <th>1</th>\n",
       "      <td>sx4</td>\n",
       "      <td>2013</td>\n",
       "      <td>4.75</td>\n",
       "      <td>9.54</td>\n",
       "      <td>43000</td>\n",
       "      <td>Diesel</td>\n",
       "      <td>Dealer</td>\n",
       "      <td>Manual</td>\n",
       "      <td>0</td>\n",
       "    </tr>\n",
       "    <tr>\n",
       "      <th>2</th>\n",
       "      <td>ciaz</td>\n",
       "      <td>2017</td>\n",
       "      <td>7.25</td>\n",
       "      <td>9.85</td>\n",
       "      <td>6900</td>\n",
       "      <td>Petrol</td>\n",
       "      <td>Dealer</td>\n",
       "      <td>Manual</td>\n",
       "      <td>0</td>\n",
       "    </tr>\n",
       "    <tr>\n",
       "      <th>3</th>\n",
       "      <td>wagon r</td>\n",
       "      <td>2011</td>\n",
       "      <td>2.85</td>\n",
       "      <td>4.15</td>\n",
       "      <td>5200</td>\n",
       "      <td>Petrol</td>\n",
       "      <td>Dealer</td>\n",
       "      <td>Manual</td>\n",
       "      <td>0</td>\n",
       "    </tr>\n",
       "    <tr>\n",
       "      <th>4</th>\n",
       "      <td>swift</td>\n",
       "      <td>2014</td>\n",
       "      <td>4.60</td>\n",
       "      <td>6.87</td>\n",
       "      <td>42450</td>\n",
       "      <td>Diesel</td>\n",
       "      <td>Dealer</td>\n",
       "      <td>Manual</td>\n",
       "      <td>0</td>\n",
       "    </tr>\n",
       "  </tbody>\n",
       "</table>\n",
       "</div>"
      ],
      "text/plain": [
       "  Car_Name  Year  Selling_Price  Present_Price  Kms_Driven Fuel_Type  \\\n",
       "0     ritz  2014           3.35           5.59       27000    Petrol   \n",
       "1      sx4  2013           4.75           9.54       43000    Diesel   \n",
       "2     ciaz  2017           7.25           9.85        6900    Petrol   \n",
       "3  wagon r  2011           2.85           4.15        5200    Petrol   \n",
       "4    swift  2014           4.60           6.87       42450    Diesel   \n",
       "\n",
       "  Seller_Type Transmission  Owner  \n",
       "0      Dealer       Manual      0  \n",
       "1      Dealer       Manual      0  \n",
       "2      Dealer       Manual      0  \n",
       "3      Dealer       Manual      0  \n",
       "4      Dealer       Manual      0  "
      ]
     },
     "execution_count": 2,
     "metadata": {},
     "output_type": "execute_result"
    }
   ],
   "source": [
    "#exploring the data set\n",
    "train= pd.read_csv(\"../input/vehicle-dataset-from-cardekho/car data.csv\")\n",
    "train.head()"
   ]
  },
  {
   "cell_type": "code",
   "execution_count": 3,
   "id": "3a2509ed",
   "metadata": {
    "execution": {
     "iopub.execute_input": "2022-08-07T05:27:43.933398Z",
     "iopub.status.busy": "2022-08-07T05:27:43.932912Z",
     "iopub.status.idle": "2022-08-07T05:27:43.939848Z",
     "shell.execute_reply": "2022-08-07T05:27:43.938661Z"
    },
    "papermill": {
     "duration": 0.017404,
     "end_time": "2022-08-07T05:27:43.942410",
     "exception": false,
     "start_time": "2022-08-07T05:27:43.925006",
     "status": "completed"
    },
    "tags": []
   },
   "outputs": [
    {
     "data": {
      "text/plain": [
       "(301, 9)"
      ]
     },
     "execution_count": 3,
     "metadata": {},
     "output_type": "execute_result"
    }
   ],
   "source": [
    "#checking the data frame\n",
    "train.shape"
   ]
  },
  {
   "cell_type": "code",
   "execution_count": 4,
   "id": "5bb598a0",
   "metadata": {
    "execution": {
     "iopub.execute_input": "2022-08-07T05:27:43.959019Z",
     "iopub.status.busy": "2022-08-07T05:27:43.957966Z",
     "iopub.status.idle": "2022-08-07T05:27:43.983500Z",
     "shell.execute_reply": "2022-08-07T05:27:43.982373Z"
    },
    "papermill": {
     "duration": 0.037642,
     "end_time": "2022-08-07T05:27:43.986850",
     "exception": false,
     "start_time": "2022-08-07T05:27:43.949208",
     "status": "completed"
    },
    "tags": []
   },
   "outputs": [
    {
     "name": "stdout",
     "output_type": "stream",
     "text": [
      "<class 'pandas.core.frame.DataFrame'>\n",
      "RangeIndex: 301 entries, 0 to 300\n",
      "Data columns (total 9 columns):\n",
      " #   Column         Non-Null Count  Dtype  \n",
      "---  ------         --------------  -----  \n",
      " 0   Car_Name       301 non-null    object \n",
      " 1   Year           301 non-null    int64  \n",
      " 2   Selling_Price  301 non-null    float64\n",
      " 3   Present_Price  301 non-null    float64\n",
      " 4   Kms_Driven     301 non-null    int64  \n",
      " 5   Fuel_Type      301 non-null    object \n",
      " 6   Seller_Type    301 non-null    object \n",
      " 7   Transmission   301 non-null    object \n",
      " 8   Owner          301 non-null    int64  \n",
      "dtypes: float64(2), int64(3), object(4)\n",
      "memory usage: 21.3+ KB\n"
     ]
    }
   ],
   "source": [
    "#gathering information about dataset\n",
    "train.info()\n",
    "#no missing values\n"
   ]
  },
  {
   "cell_type": "code",
   "execution_count": 5,
   "id": "7406dede",
   "metadata": {
    "execution": {
     "iopub.execute_input": "2022-08-07T05:27:44.001668Z",
     "iopub.status.busy": "2022-08-07T05:27:44.001254Z",
     "iopub.status.idle": "2022-08-07T05:27:44.011811Z",
     "shell.execute_reply": "2022-08-07T05:27:44.010242Z"
    },
    "papermill": {
     "duration": 0.021023,
     "end_time": "2022-08-07T05:27:44.014443",
     "exception": false,
     "start_time": "2022-08-07T05:27:43.993420",
     "status": "completed"
    },
    "tags": []
   },
   "outputs": [
    {
     "name": "stdout",
     "output_type": "stream",
     "text": [
      "Petrol    239\n",
      "Diesel     60\n",
      "CNG         2\n",
      "Name: Fuel_Type, dtype: int64\n",
      "Dealer        195\n",
      "Individual    106\n",
      "Name: Seller_Type, dtype: int64\n",
      "Manual       261\n",
      "Automatic     40\n",
      "Name: Transmission, dtype: int64\n"
     ]
    }
   ],
   "source": [
    "#checking distribution of categorical data\n",
    "print(train.Fuel_Type.value_counts())\n",
    "print(train.Seller_Type.value_counts())\n",
    "print(train.Transmission.value_counts())"
   ]
  },
  {
   "cell_type": "code",
   "execution_count": 6,
   "id": "ba2bcf0f",
   "metadata": {
    "execution": {
     "iopub.execute_input": "2022-08-07T05:27:44.033169Z",
     "iopub.status.busy": "2022-08-07T05:27:44.032715Z",
     "iopub.status.idle": "2022-08-07T05:27:44.055529Z",
     "shell.execute_reply": "2022-08-07T05:27:44.054551Z"
    },
    "papermill": {
     "duration": 0.03615,
     "end_time": "2022-08-07T05:27:44.058383",
     "exception": false,
     "start_time": "2022-08-07T05:27:44.022233",
     "status": "completed"
    },
    "tags": []
   },
   "outputs": [
    {
     "data": {
      "text/html": [
       "<div>\n",
       "<style scoped>\n",
       "    .dataframe tbody tr th:only-of-type {\n",
       "        vertical-align: middle;\n",
       "    }\n",
       "\n",
       "    .dataframe tbody tr th {\n",
       "        vertical-align: top;\n",
       "    }\n",
       "\n",
       "    .dataframe thead th {\n",
       "        text-align: right;\n",
       "    }\n",
       "</style>\n",
       "<table border=\"1\" class=\"dataframe\">\n",
       "  <thead>\n",
       "    <tr style=\"text-align: right;\">\n",
       "      <th></th>\n",
       "      <th>Car_Name</th>\n",
       "      <th>Year</th>\n",
       "      <th>Selling_Price</th>\n",
       "      <th>Present_Price</th>\n",
       "      <th>Kms_Driven</th>\n",
       "      <th>Fuel_Type</th>\n",
       "      <th>Seller_Type</th>\n",
       "      <th>Transmission</th>\n",
       "      <th>Owner</th>\n",
       "    </tr>\n",
       "  </thead>\n",
       "  <tbody>\n",
       "    <tr>\n",
       "      <th>0</th>\n",
       "      <td>ritz</td>\n",
       "      <td>2014</td>\n",
       "      <td>3.35</td>\n",
       "      <td>5.59</td>\n",
       "      <td>27000</td>\n",
       "      <td>0</td>\n",
       "      <td>0</td>\n",
       "      <td>0</td>\n",
       "      <td>0</td>\n",
       "    </tr>\n",
       "    <tr>\n",
       "      <th>1</th>\n",
       "      <td>sx4</td>\n",
       "      <td>2013</td>\n",
       "      <td>4.75</td>\n",
       "      <td>9.54</td>\n",
       "      <td>43000</td>\n",
       "      <td>1</td>\n",
       "      <td>0</td>\n",
       "      <td>0</td>\n",
       "      <td>0</td>\n",
       "    </tr>\n",
       "    <tr>\n",
       "      <th>2</th>\n",
       "      <td>ciaz</td>\n",
       "      <td>2017</td>\n",
       "      <td>7.25</td>\n",
       "      <td>9.85</td>\n",
       "      <td>6900</td>\n",
       "      <td>0</td>\n",
       "      <td>0</td>\n",
       "      <td>0</td>\n",
       "      <td>0</td>\n",
       "    </tr>\n",
       "    <tr>\n",
       "      <th>3</th>\n",
       "      <td>wagon r</td>\n",
       "      <td>2011</td>\n",
       "      <td>2.85</td>\n",
       "      <td>4.15</td>\n",
       "      <td>5200</td>\n",
       "      <td>0</td>\n",
       "      <td>0</td>\n",
       "      <td>0</td>\n",
       "      <td>0</td>\n",
       "    </tr>\n",
       "    <tr>\n",
       "      <th>4</th>\n",
       "      <td>swift</td>\n",
       "      <td>2014</td>\n",
       "      <td>4.60</td>\n",
       "      <td>6.87</td>\n",
       "      <td>42450</td>\n",
       "      <td>1</td>\n",
       "      <td>0</td>\n",
       "      <td>0</td>\n",
       "      <td>0</td>\n",
       "    </tr>\n",
       "  </tbody>\n",
       "</table>\n",
       "</div>"
      ],
      "text/plain": [
       "  Car_Name  Year  Selling_Price  Present_Price  Kms_Driven  Fuel_Type  \\\n",
       "0     ritz  2014           3.35           5.59       27000          0   \n",
       "1      sx4  2013           4.75           9.54       43000          1   \n",
       "2     ciaz  2017           7.25           9.85        6900          0   \n",
       "3  wagon r  2011           2.85           4.15        5200          0   \n",
       "4    swift  2014           4.60           6.87       42450          1   \n",
       "\n",
       "   Seller_Type  Transmission  Owner  \n",
       "0            0             0      0  \n",
       "1            0             0      0  \n",
       "2            0             0      0  \n",
       "3            0             0      0  \n",
       "4            0             0      0  "
      ]
     },
     "execution_count": 6,
     "metadata": {},
     "output_type": "execute_result"
    }
   ],
   "source": [
    "#encoding the categorical data\n",
    "train.replace({'Fuel_Type':{'Petrol':0,'Diesel':1,'CNG':2}},inplace=True)\n",
    "train.replace({'Seller_Type':{'Dealer':0,'Individual':1}},inplace=True)\n",
    "train.replace({'Transmission':{'Manual':0,'Automatic':1}},inplace=True)\n",
    "train.head()"
   ]
  },
  {
   "cell_type": "code",
   "execution_count": 7,
   "id": "09595b3f",
   "metadata": {
    "execution": {
     "iopub.execute_input": "2022-08-07T05:27:44.074216Z",
     "iopub.status.busy": "2022-08-07T05:27:44.073556Z",
     "iopub.status.idle": "2022-08-07T05:27:44.081695Z",
     "shell.execute_reply": "2022-08-07T05:27:44.080464Z"
    },
    "papermill": {
     "duration": 0.019233,
     "end_time": "2022-08-07T05:27:44.084567",
     "exception": false,
     "start_time": "2022-08-07T05:27:44.065334",
     "status": "completed"
    },
    "tags": []
   },
   "outputs": [],
   "source": [
    "#splitting the data and target\n",
    "Y=train['Selling_Price']\n",
    "X=train.drop(['Car_Name','Selling_Price'],axis=1)"
   ]
  },
  {
   "cell_type": "code",
   "execution_count": 8,
   "id": "e06cd177",
   "metadata": {
    "execution": {
     "iopub.execute_input": "2022-08-07T05:27:44.101097Z",
     "iopub.status.busy": "2022-08-07T05:27:44.099948Z",
     "iopub.status.idle": "2022-08-07T05:27:44.107474Z",
     "shell.execute_reply": "2022-08-07T05:27:44.106391Z"
    },
    "papermill": {
     "duration": 0.018135,
     "end_time": "2022-08-07T05:27:44.109873",
     "exception": false,
     "start_time": "2022-08-07T05:27:44.091738",
     "status": "completed"
    },
    "tags": []
   },
   "outputs": [],
   "source": [
    "#splitting train and test data\n",
    "X_train,X_test,Y_train,Y_test=train_test_split(X,Y,test_size=0.1,random_state=2)\n",
    "\n"
   ]
  },
  {
   "cell_type": "code",
   "execution_count": 9,
   "id": "dca8d33a",
   "metadata": {
    "execution": {
     "iopub.execute_input": "2022-08-07T05:27:44.126204Z",
     "iopub.status.busy": "2022-08-07T05:27:44.125066Z",
     "iopub.status.idle": "2022-08-07T05:27:44.130497Z",
     "shell.execute_reply": "2022-08-07T05:27:44.129631Z"
    },
    "papermill": {
     "duration": 0.016045,
     "end_time": "2022-08-07T05:27:44.132912",
     "exception": false,
     "start_time": "2022-08-07T05:27:44.116867",
     "status": "completed"
    },
    "tags": []
   },
   "outputs": [],
   "source": [
    "#MODEL TRAINING USING LINEAR REGRESSION\n",
    "lin_reg_model=LinearRegression()\n"
   ]
  },
  {
   "cell_type": "code",
   "execution_count": 10,
   "id": "a76ae22e",
   "metadata": {
    "execution": {
     "iopub.execute_input": "2022-08-07T05:27:44.148973Z",
     "iopub.status.busy": "2022-08-07T05:27:44.148169Z",
     "iopub.status.idle": "2022-08-07T05:27:44.176327Z",
     "shell.execute_reply": "2022-08-07T05:27:44.175133Z"
    },
    "papermill": {
     "duration": 0.039039,
     "end_time": "2022-08-07T05:27:44.178793",
     "exception": false,
     "start_time": "2022-08-07T05:27:44.139754",
     "status": "completed"
    },
    "tags": []
   },
   "outputs": [
    {
     "data": {
      "text/plain": [
       "LinearRegression()"
      ]
     },
     "execution_count": 10,
     "metadata": {},
     "output_type": "execute_result"
    }
   ],
   "source": [
    "#fit is used to fit the training model in the line\n",
    "lin_reg_model.fit(X_train,Y_train)"
   ]
  },
  {
   "cell_type": "code",
   "execution_count": 11,
   "id": "a94024cc",
   "metadata": {
    "execution": {
     "iopub.execute_input": "2022-08-07T05:27:44.194916Z",
     "iopub.status.busy": "2022-08-07T05:27:44.194136Z",
     "iopub.status.idle": "2022-08-07T05:27:44.203618Z",
     "shell.execute_reply": "2022-08-07T05:27:44.202521Z"
    },
    "papermill": {
     "duration": 0.020521,
     "end_time": "2022-08-07T05:27:44.206249",
     "exception": false,
     "start_time": "2022-08-07T05:27:44.185728",
     "status": "completed"
    },
    "tags": []
   },
   "outputs": [],
   "source": [
    "#ModelEvaluation\n",
    "#prediction on training data\n",
    "training_dataprediction=lin_reg_model.predict(X_train)\n"
   ]
  },
  {
   "cell_type": "code",
   "execution_count": 12,
   "id": "e753ff6a",
   "metadata": {
    "execution": {
     "iopub.execute_input": "2022-08-07T05:27:44.222360Z",
     "iopub.status.busy": "2022-08-07T05:27:44.221561Z",
     "iopub.status.idle": "2022-08-07T05:27:44.228940Z",
     "shell.execute_reply": "2022-08-07T05:27:44.227475Z"
    },
    "papermill": {
     "duration": 0.019016,
     "end_time": "2022-08-07T05:27:44.232100",
     "exception": false,
     "start_time": "2022-08-07T05:27:44.213084",
     "status": "completed"
    },
    "tags": []
   },
   "outputs": [
    {
     "name": "stdout",
     "output_type": "stream",
     "text": [
      "0.8799451660493711\n"
     ]
    }
   ],
   "source": [
    "#Calculating R squared error\n",
    "error_score=metrics.r2_score(Y_train,training_dataprediction)\n",
    "print(error_score)"
   ]
  },
  {
   "cell_type": "code",
   "execution_count": 13,
   "id": "33cd4a38",
   "metadata": {
    "execution": {
     "iopub.execute_input": "2022-08-07T05:27:44.248236Z",
     "iopub.status.busy": "2022-08-07T05:27:44.247774Z",
     "iopub.status.idle": "2022-08-07T05:27:44.479989Z",
     "shell.execute_reply": "2022-08-07T05:27:44.478486Z"
    },
    "papermill": {
     "duration": 0.243635,
     "end_time": "2022-08-07T05:27:44.482950",
     "exception": false,
     "start_time": "2022-08-07T05:27:44.239315",
     "status": "completed"
    },
    "tags": []
   },
   "outputs": [
    {
     "data": {
      "image/png": "[encoded data removed]",
      "text/plain": [
       "<Figure size 432x288 with 1 Axes>"
      ]
     },
     "metadata": {
      "needs_background": "light"
     },
     "output_type": "display_data"
    }
   ],
   "source": [
    "#Visualize actual price and predicted price\n",
    "plt.scatter(Y_train,training_dataprediction)\n",
    "plt.xlabel('Actual Price')\n",
    "plt.ylabel('Predicted Price')\n",
    "plt.show()"
   ]
  },
  {
   "cell_type": "code",
   "execution_count": 14,
   "id": "17ebdd27",
   "metadata": {
    "execution": {
     "iopub.execute_input": "2022-08-07T05:27:44.500152Z",
     "iopub.status.busy": "2022-08-07T05:27:44.498898Z",
     "iopub.status.idle": "2022-08-07T05:27:44.506692Z",
     "shell.execute_reply": "2022-08-07T05:27:44.505625Z"
    },
    "papermill": {
     "duration": 0.019021,
     "end_time": "2022-08-07T05:27:44.509372",
     "exception": false,
     "start_time": "2022-08-07T05:27:44.490351",
     "status": "completed"
    },
    "tags": []
   },
   "outputs": [],
   "source": [
    "#prediction on test data\n",
    "test_data_prediction=lin_reg_model.predict(X_test)\n"
   ]
  },
  {
   "cell_type": "code",
   "execution_count": 15,
   "id": "24a7c4f8",
   "metadata": {
    "execution": {
     "iopub.execute_input": "2022-08-07T05:27:44.527395Z",
     "iopub.status.busy": "2022-08-07T05:27:44.526660Z",
     "iopub.status.idle": "2022-08-07T05:27:44.532760Z",
     "shell.execute_reply": "2022-08-07T05:27:44.531613Z"
    },
    "papermill": {
     "duration": 0.017519,
     "end_time": "2022-08-07T05:27:44.535064",
     "exception": false,
     "start_time": "2022-08-07T05:27:44.517545",
     "status": "completed"
    },
    "tags": []
   },
   "outputs": [
    {
     "name": "stdout",
     "output_type": "stream",
     "text": [
      "0.8365766715027051\n"
     ]
    }
   ],
   "source": [
    "#calculate r squared error\n",
    "error_test=metrics.r2_score(Y_test,test_data_prediction)\n",
    "print(error_test)"
   ]
  },
  {
   "cell_type": "code",
   "execution_count": 16,
   "id": "d1fcb678",
   "metadata": {
    "execution": {
     "iopub.execute_input": "2022-08-07T05:27:44.552252Z",
     "iopub.status.busy": "2022-08-07T05:27:44.551410Z",
     "iopub.status.idle": "2022-08-07T05:27:44.738261Z",
     "shell.execute_reply": "2022-08-07T05:27:44.737070Z"
    },
    "papermill": {
     "duration": 0.198288,
     "end_time": "2022-08-07T05:27:44.740979",
     "exception": false,
     "start_time": "2022-08-07T05:27:44.542691",
     "status": "completed"
    },
    "tags": []
   },
   "outputs": [
    {
     "data": {
      "image/png": "[encoded data removed]",
      "text/plain": [
       "<Figure size 432x288 with 1 Axes>"
      ]
     },
     "metadata": {
      "needs_background": "light"
     },
     "output_type": "display_data"
    }
   ],
   "source": [
    "#Visualize actual price and predicted price\n",
    "plt.scatter(Y_test,test_data_prediction)\n",
    "plt.xlabel('Actual Price')\n",
    "plt.ylabel('Predicted Price')\n",
    "plt.show()"
   ]
  },
  {
   "cell_type": "code",
   "execution_count": 17,
   "id": "0c3211e5",
   "metadata": {
    "execution": {
     "iopub.execute_input": "2022-08-07T05:27:44.758507Z",
     "iopub.status.busy": "2022-08-07T05:27:44.758069Z",
     "iopub.status.idle": "2022-08-07T05:27:44.771275Z",
     "shell.execute_reply": "2022-08-07T05:27:44.770083Z"
    },
    "papermill": {
     "duration": 0.024739,
     "end_time": "2022-08-07T05:27:44.773672",
     "exception": false,
     "start_time": "2022-08-07T05:27:44.748933",
     "status": "completed"
    },
    "tags": []
   },
   "outputs": [
    {
     "data": {
      "text/plain": [
       "Lasso()"
      ]
     },
     "execution_count": 17,
     "metadata": {},
     "output_type": "execute_result"
    }
   ],
   "source": [
    "#lasso regression\n",
    "lass_reg_model=Lasso()\n",
    "lass_reg_model.fit(X_train,Y_train)\n"
   ]
  },
  {
   "cell_type": "code",
   "execution_count": 18,
   "id": "77244122",
   "metadata": {
    "execution": {
     "iopub.execute_input": "2022-08-07T05:27:44.790784Z",
     "iopub.status.busy": "2022-08-07T05:27:44.790354Z",
     "iopub.status.idle": "2022-08-07T05:27:44.798374Z",
     "shell.execute_reply": "2022-08-07T05:27:44.797218Z"
    },
    "papermill": {
     "duration": 0.019328,
     "end_time": "2022-08-07T05:27:44.800720",
     "exception": false,
     "start_time": "2022-08-07T05:27:44.781392",
     "status": "completed"
    },
    "tags": []
   },
   "outputs": [],
   "source": [
    "training_dataprediction=lass_reg_model.predict(X_train)"
   ]
  },
  {
   "cell_type": "code",
   "execution_count": 19,
   "id": "e665a7fa",
   "metadata": {
    "execution": {
     "iopub.execute_input": "2022-08-07T05:27:44.818229Z",
     "iopub.status.busy": "2022-08-07T05:27:44.817422Z",
     "iopub.status.idle": "2022-08-07T05:27:44.824454Z",
     "shell.execute_reply": "2022-08-07T05:27:44.823343Z"
    },
    "papermill": {
     "duration": 0.01837,
     "end_time": "2022-08-07T05:27:44.826873",
     "exception": false,
     "start_time": "2022-08-07T05:27:44.808503",
     "status": "completed"
    },
    "tags": []
   },
   "outputs": [
    {
     "name": "stdout",
     "output_type": "stream",
     "text": [
      "0.8427856123435794\n"
     ]
    }
   ],
   "source": [
    "error_score=metrics.r2_score(Y_train,training_dataprediction)\n",
    "print(error_score)"
   ]
  },
  {
   "cell_type": "code",
   "execution_count": 20,
   "id": "f5411297",
   "metadata": {
    "execution": {
     "iopub.execute_input": "2022-08-07T05:27:44.844284Z",
     "iopub.status.busy": "2022-08-07T05:27:44.843727Z",
     "iopub.status.idle": "2022-08-07T05:27:45.032942Z",
     "shell.execute_reply": "2022-08-07T05:27:45.031460Z"
    },
    "papermill": {
     "duration": 0.200991,
     "end_time": "2022-08-07T05:27:45.035570",
     "exception": false,
     "start_time": "2022-08-07T05:27:44.834579",
     "status": "completed"
    },
    "tags": []
   },
   "outputs": [
    {
     "data": {
      "image/png": "[encoded data removed]",
      "text/plain": [
       "<Figure size 432x288 with 1 Axes>"
      ]
     },
     "metadata": {
      "needs_background": "light"
     },
     "output_type": "display_data"
    }
   ],
   "source": [
    "plt.scatter(Y_train,training_dataprediction)\n",
    "plt.xlabel('Actual Price')\n",
    "plt.ylabel('Predicted Price')\n",
    "plt.show()"
   ]
  },
  {
   "cell_type": "code",
   "execution_count": 21,
   "id": "b78924c3",
   "metadata": {
    "execution": {
     "iopub.execute_input": "2022-08-07T05:27:45.054261Z",
     "iopub.status.busy": "2022-08-07T05:27:45.053816Z",
     "iopub.status.idle": "2022-08-07T05:27:45.060690Z",
     "shell.execute_reply": "2022-08-07T05:27:45.059841Z"
    },
    "papermill": {
     "duration": 0.019074,
     "end_time": "2022-08-07T05:27:45.062856",
     "exception": false,
     "start_time": "2022-08-07T05:27:45.043782",
     "status": "completed"
    },
    "tags": []
   },
   "outputs": [],
   "source": [
    "test_data_prediction=lass_reg_model.predict(X_test)\n"
   ]
  },
  {
   "cell_type": "code",
   "execution_count": 22,
   "id": "02cdb61d",
   "metadata": {
    "execution": {
     "iopub.execute_input": "2022-08-07T05:27:45.081280Z",
     "iopub.status.busy": "2022-08-07T05:27:45.080565Z",
     "iopub.status.idle": "2022-08-07T05:27:45.088796Z",
     "shell.execute_reply": "2022-08-07T05:27:45.087501Z"
    },
    "papermill": {
     "duration": 0.02063,
     "end_time": "2022-08-07T05:27:45.091403",
     "exception": false,
     "start_time": "2022-08-07T05:27:45.070773",
     "status": "completed"
    },
    "tags": []
   },
   "outputs": [
    {
     "name": "stdout",
     "output_type": "stream",
     "text": [
      "0.8709167941173195\n"
     ]
    }
   ],
   "source": [
    "error_test=metrics.r2_score(Y_test,test_data_prediction)\n",
    "print(error_test)"
   ]
  },
  {
   "cell_type": "code",
   "execution_count": 23,
   "id": "62606b2a",
   "metadata": {
    "execution": {
     "iopub.execute_input": "2022-08-07T05:27:45.109683Z",
     "iopub.status.busy": "2022-08-07T05:27:45.108633Z",
     "iopub.status.idle": "2022-08-07T05:27:45.289205Z",
     "shell.execute_reply": "2022-08-07T05:27:45.288295Z"
    },
    "papermill": {
     "duration": 0.192147,
     "end_time": "2022-08-07T05:27:45.291571",
     "exception": false,
     "start_time": "2022-08-07T05:27:45.099424",
     "status": "completed"
    },
    "tags": []
   },
   "outputs": [
    {
     "data": {
      "image/png": "[encoded data removed]",
      "text/plain": [
       "<Figure size 432x288 with 1 Axes>"
      ]
     },
     "metadata": {
      "needs_background": "light"
     },
     "output_type": "display_data"
    }
   ],
   "source": [
    "plt.scatter(Y_test,test_data_prediction)\n",
    "plt.xlabel('Actual Price')\n",
    "plt.ylabel('Predicted Price')\n",
    "plt.show()"
   ]
  }
 ],
 "metadata": {
  "kernelspec": {
   "display_name": "Python 3",
   "language": "python",
   "name": "python3"
  },
  "language_info": {
   "codemirror_mode": {
    "name": "ipython",
    "version": 3
   },
   "file_extension": ".py",
   "mimetype": "text/x-python",
   "name": "python",
   "nbconvert_exporter": "python",
   "pygments_lexer": "ipython3",
   "version": "3.7.12"
  },
  "papermill": {
   "default_parameters": {},
   "duration": 13.157937,
   "end_time": "2022-08-07T05:27:46.021677",
   "environment_variables": {},
   "exception": null,
   "input_path": "__notebook__.ipynb",
   "output_path": "__notebook__.ipynb",
   "parameters": {},
   "start_time": "2022-08-07T05:27:32.863740",
   "version": "2.3.4"
  }
 },
 "nbformat": 4,
 "nbformat_minor": 5
}
